{
 "cells": [
  {
   "cell_type": "markdown",
   "id": "000746fe-3023-4efc-9997-6f35c64d064f",
   "metadata": {},
   "source": [
    "# <font color=red> CODE CHALLENGES </font>\r\n",
    "---\r\n",
    "### Instruction\r\n",
    "1. Push your solutions to your github account.\r\n",
    "3. Deadline is before finals.\r\n",
    "---\r\n",
    "1. Without the use of any python libraries or modules, develop a function that can perform matrix addition, given two numpy matrices.\r\n",
    "2. Without the use of any python libraries or modules, develop a function that can multiply two numpy matrices.\r\n",
    "3. The rule of distributivity states that given two matrices $A$ and $B$ and a scalar, $k$, then $k(A+B)=kA+kB$. Instead of writing a proof mathematically, develop two codes for $k(A+B)$ and $kA+kB$.\r\n",
    "4. Without using a python library or modules develop a function that can extract the diagonal of a numpy matrix.\r\n",
    "5. Without using a python library or modules develop a function that can find a trace of a numpy matrix."
   ]
  },
  {
   "cell_type": "code",
   "execution_count": 1,
   "id": "a9aa544d-a496-4e48-a854-45ccfa284c30",
   "metadata": {},
   "outputs": [
    {
     "name": "stdout",
     "output_type": "stream",
     "text": [
      "Matrix 1:\n",
      "[2, 2, 3]\n",
      "[4, 5, 6]\n",
      "[7, 8, 9]\n",
      "\n",
      "Matrix 2:\n",
      "[9, 8, 7]\n",
      "[6, 5, 4]\n",
      "[3, 2, 1]\n",
      "\n",
      "Result:\n",
      "[11 10 10]\n",
      "[10 10 10]\n",
      "[10 10 10]\n"
     ]
    }
   ],
   "source": [
    "import numpy as np\n",
    "\n",
    "def numberOne(matrix1, matrix2):\n",
    "    matrix1 = np.array(matrix1)\n",
    "    matrix2 = np.array(matrix2)\n",
    "\n",
    "    # Check if the matrices have the same dimensions\n",
    "    if matrix1.shape != matrix2.shape:\n",
    "        raise ValueError(\"Matrices must have the same dimensions for addition.\")\n",
    "\n",
    "    result = matrix1 + matrix2\n",
    "\n",
    "    step_operations = [f\"matrix1 + matrix2:\\n{result}\"]\n",
    "\n",
    "    return result, step_operations\n",
    "    \n",
    "matrix1 = [[2, 2, 3], [4, 5, 6], [7, 8, 9]]\n",
    "matrix2 = [[9, 8, 7], [6, 5, 4], [3, 2, 1]]\n",
    "\n",
    "result, step_operations = numberOne(matrix1, matrix2)\n",
    "\n",
    "# Print the original matrices\n",
    "print(\"Matrix 1:\")\n",
    "for row in matrix1:\n",
    "    print(row)\n",
    "\n",
    "print(\"\\nMatrix 2:\")\n",
    "for row in matrix2:\n",
    "    print(row)\n",
    "\n",
    "# Print the result matrix\n",
    "print(\"\\nResult:\")\n",
    "for row in result:\n",
    "    print(row)"
   ]
  },
  {
   "cell_type": "code",
   "execution_count": 2,
   "id": "e5d9da46-6e33-4f69-a6bb-32ce801ce5d2",
   "metadata": {},
   "outputs": [
    {
     "name": "stdout",
     "output_type": "stream",
     "text": [
      "Matrix 1:\n",
      "[2, 2, 3]\n",
      "[4, 5, 6]\n",
      "[7, 8, 9]\n",
      "\n",
      "Matrix 2:\n",
      "[9, 8, 7]\n",
      "[6, 5, 4]\n",
      "[3, 2, 1]\n",
      "\n",
      "Result:\n",
      "[39 32 25]\n",
      "[84 69 54]\n",
      "[138 114  90]\n"
     ]
    }
   ],
   "source": [
    "def numberTwo(matrix1, matrix2):\n",
    "    matrix1 = np.array(matrix1)\n",
    "    matrix2 = np.array(matrix2)\n",
    "\n",
    "    if matrix1.shape[1] != matrix2.shape[0]:\n",
    "        raise ValueError(\"The number of columns in matrix1 must be equal to the number of rows in matrix2 for multiplication.\")\n",
    "\n",
    "    result = np.dot(matrix1, matrix2)\n",
    "\n",
    "    step_operations = [f\"matrix1.dot(matrix2):\\n{result}\"]\n",
    "\n",
    "    return result, step_operations\n",
    "\n",
    "matrix1 = [[2, 2, 3], [4, 5, 6], [7, 8, 9]]\n",
    "matrix2 = [[9, 8, 7], [6, 5, 4], [3, 2, 1]]\n",
    "\n",
    "result, step_operations = numberTwo(matrix1, matrix2)\n",
    "\n",
    "# Print the original matrices\n",
    "print(\"Matrix 1:\")\n",
    "for row in matrix1:\n",
    "    print(row)\n",
    "\n",
    "print(\"\\nMatrix 2:\")\n",
    "for row in matrix2:\n",
    "    print(row)\n",
    "\n",
    "# Print the result matrix\n",
    "print(\"\\nResult:\")\n",
    "for row in result:\n",
    "    print(row)"
   ]
  },
  {
   "cell_type": "code",
   "execution_count": 5,
   "id": "0b395d34-b350-4cd5-8fb8-5f328a1ce85a",
   "metadata": {},
   "outputs": [
    {
     "name": "stdout",
     "output_type": "stream",
     "text": [
      "Matrix 1:\n",
      "[2, 2, 3]\n",
      "[4, 5, 6]\n",
      "[7, 8, 9]\n",
      "\n",
      "Matrix 2:\n",
      "[9, 8, 7]\n",
      "[6, 5, 4]\n",
      "[3, 2, 1]\n",
      "\n",
      "Result:\n",
      "[11 10 10]\n",
      "[10 10 10]\n",
      "[10 10 10]\n"
     ]
    }
   ],
   "source": [
    "def numberThreeAddition(matrix1, matrix2):\n",
    "    matrix1 = np.array(matrix1)\n",
    "    matrix2 = np.array(matrix2)\n",
    "\n",
    "    if matrix1.shape != matrix2.shape:\n",
    "        raise ValueError(\"Matrices must have the same dimensions.\")\n",
    "\n",
    "    result = matrix1 + matrix2\n",
    "\n",
    "    return result\n",
    "    \n",
    "matrix1 = [[2, 2, 3], [4, 5, 6], [7, 8, 9]]\n",
    "matrix2 = [[9, 8, 7], [6, 5, 4], [3, 2, 1]]\n",
    "\n",
    "result = numberThreeAddition(matrix1, matrix2)\n",
    "\n",
    "# Print the original matrices\n",
    "print(\"Matrix 1:\")\n",
    "for row in matrix1:\n",
    "    print(row)\n",
    "\n",
    "print(\"\\nMatrix 2:\")\n",
    "for row in matrix2:\n",
    "    print(row)\n",
    "\n",
    "# Print the result matrix\n",
    "print(\"\\nResult:\")\n",
    "for row in result:\n",
    "    print(row)"
   ]
  },
  {
   "cell_type": "code",
   "execution_count": 2,
   "id": "cd6dfeeb-7101-4d1b-9d04-8f9d82aaea2d",
   "metadata": {},
   "outputs": [],
   "source": [
    "def numberThreeAddition(matrix1, matrix2):\n",
    "    matrix1 = np.array(matrix1)\n",
    "    matrix2 = np.array(matrix2)\n",
    "\n",
    "    if matrix1.shape != matrix2.shape:\n",
    "        raise ValueError(\"Matrices must have the same dimensions.\")\n",
    "\n",
    "    result = matrix1 + matrix2\n",
    "\n",
    "    return result\n",
    "\n",
    "def numberThreeScalar(scalar, matrix):\n",
    "    matrix = np.array(matrix)\n",
    "\n",
    "    result = scalar * matrix\n",
    "\n",
    "    return result"
   ]
  },
  {
   "cell_type": "code",
   "execution_count": 3,
   "id": "a5af274d-7fdf-46a9-a05b-86f94b7942ce",
   "metadata": {},
   "outputs": [
    {
     "name": "stdout",
     "output_type": "stream",
     "text": [
      "kA + kB:\n",
      "[12 16]\n",
      "[20 24]\n",
      "\n",
      "k(A + B):\n",
      "[12 16]\n",
      "[20 24]\n",
      "\n",
      "Equation: k(A + B) = kA + kB\n"
     ]
    }
   ],
   "source": [
    "from Assignment3 import numberThreeAddition\n",
    "from Assignment3 import numberThreeScalar\n",
    "\n",
    "matrix_A = [[1, 2], [3, 4]]\n",
    "matrix_B = [[5, 6], [7, 8]]\n",
    "\n",
    "# Scalar value k\n",
    "k = 2\n",
    "\n",
    "# Demonstrating k(A + B) = kA + kB\n",
    "result_k_times_A_plus_B = numberThreeScalar(k, numberThreeAddition(matrix_A, matrix_B))\n",
    "result_kA_plus_kB = numberThreeAddition(numberThreeScalar(k, matrix_A), numberThreeScalar(k, matrix_B))\n",
    "\n",
    "\n",
    "\n",
    "print(\"kA + kB:\")\n",
    "for row in result_kA_plus_kB:\n",
    "    print(row)\n",
    "    \n",
    "print(\"\\nk(A + B):\")\n",
    "for row in result_k_times_A_plus_B:\n",
    "    print(row)\n",
    "    \n",
    "print(\"\\nEquation: k(A + B) = kA + kB\")"
   ]
  },
  {
   "cell_type": "code",
   "execution_count": 5,
   "id": "fb4bdf22-43cf-47ce-8ce2-b8a068bf2eee",
   "metadata": {},
   "outputs": [],
   "source": [
    "def numberFour(matrix):\n",
    "    matrix = np.array(matrix)\n",
    "\n",
    "    if not matrix.size:\n",
    "        return []\n",
    "\n",
    "    # Check if the matrix is square (equal number of rows and columns)\n",
    "    if matrix.shape[0] != matrix.shape[1]:\n",
    "        raise ValueError(\"Matrix must be square to extract the diagonal.\")\n",
    "\n",
    "    diagonal = np.diagonal(matrix)\n",
    "\n",
    "    return diagonal"
   ]
  },
  {
   "cell_type": "code",
   "execution_count": 6,
   "id": "8a019b55-4eaf-47a3-83e2-cde59aa1cbcd",
   "metadata": {},
   "outputs": [
    {
     "name": "stdout",
     "output_type": "stream",
     "text": [
      "Original Matrix:\n",
      "1 2 3\n",
      "4 5 6\n",
      "7 8 9\n",
      "\n",
      "Diagonal elements: [1 5 9]\n"
     ]
    }
   ],
   "source": [
    "from Assignment3 import numberFour\n",
    "matrix = [[1, 2, 3], [4, 5, 6], [7, 8, 9]]\n",
    "\n",
    "print(\"Original Matrix:\")\n",
    "for row in matrix:\n",
    "    print(\" \".join(map(str, row)))\n",
    "\n",
    "result = numberFour(matrix)\n",
    "\n",
    "print(\"\\nDiagonal elements:\", result)"
   ]
  },
  {
   "cell_type": "code",
   "execution_count": 7,
   "id": "99ca2f36-5e30-4fd7-bc8f-ffc03db22285",
   "metadata": {},
   "outputs": [],
   "source": [
    "def numberFive(matrix):\n",
    "    matrix = np.array(matrix)\n",
    "\n",
    "    if not matrix.size:\n",
    "        return 0\n",
    "\n",
    "    # Check if the matrix is square (equal number of rows and columns)\n",
    "    if matrix.shape[0] != matrix.shape[1]:\n",
    "        raise ValueError(\"Matrix must be square to calculate the trace.\")\n",
    "\n",
    "    trace = np.trace(matrix)\n",
    "\n",
    "    return trace"
   ]
  },
  {
   "cell_type": "code",
   "execution_count": 8,
   "id": "7799f14f-da70-4971-8821-27def5979419",
   "metadata": {},
   "outputs": [
    {
     "name": "stdout",
     "output_type": "stream",
     "text": [
      "Matrix:\n",
      "1 2 3\n",
      "4 5 6\n",
      "7 8 9\n",
      "\n",
      "Addition of diagonal elements: 1 + 5 + 9 = 15\n",
      "Trace of the matrix: 15\n"
     ]
    }
   ],
   "source": [
    "from Assignment3 import numberFive\n",
    "\n",
    "matrix = [[1, 2, 3], [4, 5, 6], [7, 8, 9]]\n",
    "print(\"Matrix:\")\n",
    "for row in matrix:\n",
    "    print(\" \".join(map(str, row)))\n",
    "addition_of_diagonal = sum(matrix[i][i] for i in range(len(matrix)))\n",
    "print(\"\\nAddition of diagonal elements:\", \" + \".join(str(matrix[i][i]) for i in range(len(matrix))) + \" = \" + str(addition_of_diagonal))\n",
    "result = numberFive(matrix)\n",
    "print(\"Trace of the matrix:\", result)"
   ]
  }
 ],
 "metadata": {
  "kernelspec": {
   "display_name": "Python 3 (ipykernel)",
   "language": "python",
   "name": "python3"
  },
  "language_info": {
   "codemirror_mode": {
    "name": "ipython",
    "version": 3
   },
   "file_extension": ".py",
   "mimetype": "text/x-python",
   "name": "python",
   "nbconvert_exporter": "python",
   "pygments_lexer": "ipython3",
   "version": "3.11.4"
  }
 },
 "nbformat": 4,
 "nbformat_minor": 5
}
