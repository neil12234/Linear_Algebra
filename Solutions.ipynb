{
 "cells": [
  {
   "cell_type": "code",
   "execution_count": 2,
   "id": "8110eaa7-fdd1-4482-b1d2-a2be911e5e4c",
   "metadata": {},
   "outputs": [],
   "source": [
    "import numberOne\n",
    "import numberTwo\n",
    "import numberThree\n",
    "import numberFour\n",
    "import numberFive\n",
    "import numberSix"
   ]
  },
  {
   "cell_type": "code",
   "execution_count": 3,
   "id": "5c5f3ad8-7a2d-45e8-9f40-998493c7925a",
   "metadata": {},
   "outputs": [
    {
     "name": "stdout",
     "output_type": "stream",
     "text": [
      "3𝐮-2v:  [ -3 -16  10]\n",
      "5𝐮+3v-4w:  [ 6  1 35]\n",
      "u.v =  -3\n",
      "v.w =  8\n",
      "u.w =  -12\n",
      "||u||:  4.58257569495584\n",
      "||v||:  5.916079783099616\n",
      "||w||:  3.7416573867739413\n",
      "angle: -0.11065666703449763\n",
      "angle: 0.36140316116210053\n",
      "angle: -0.6998542122237653\n",
      "d(u,v):  7.874007874011811\n",
      "d(w,v):  5.744562646538029\n",
      "d(u,w):  7.681145747868608\n",
      "proj(u,v):  [-0.25714286 -0.42857143 -0.08571429]\n",
      "proj(w,v):  [0.68571429 1.14285714 0.22857143]\n",
      "proj(u,w):  [-1.71428571 -0.85714286  2.57142857]\n"
     ]
    }
   ],
   "source": [
    "numberOne.letterA()\n",
    "numberOne.letterB()\n",
    "numberOne.letterC()\n",
    "numberOne.letterD()\n",
    "numberOne.letterE()\n",
    "numberOne.letterF()\n",
    "numberOne.letterG()\n",
    "numberOne.letterH()\n",
    "numberOne.letterI()\n",
    "numberOne.letterJ()\n",
    "numberOne.letterK()\n",
    "numberOne.letterL()\n",
    "numberOne.letterM()"
   ]
  },
  {
   "cell_type": "code",
   "execution_count": 4,
   "id": "982f5406-a8c0-47e4-b2bf-0f055ee26828",
   "metadata": {},
   "outputs": [
    {
     "name": "stdout",
     "output_type": "stream",
     "text": [
      "3𝐮-2v:  [ -1   7 -22]\n",
      "5𝐮+3v-4w:  [ -1  26 -29]\n",
      "u.v =  -15\n",
      "v.w =  34\n",
      "u.w =  -27\n",
      "||u||:  5.0990195135927845\n",
      "||v||:  5.477225575051661\n",
      "||w||:  7.0\n",
      "angle: -0.5370861555295747\n",
      "angle: 0.8867889026274118\n",
      "angle: -0.7564479498187099\n",
      "d(u,v):  9.273618495495704\n",
      "d(w,v):  3.3166247903554\n",
      "d(u,w):  11.357816691600547\n",
      "proj(u,v):  [-1.  -0.5 -2.5]\n",
      "proj(w,v):  [2.26666667 1.13333333 5.66666667]\n",
      "proj(u,w):  [-1.65306122  1.10204082 -3.30612245]\n"
     ]
    }
   ],
   "source": [
    "numberTwo.letterA()\n",
    "numberTwo.letterB()\n",
    "numberTwo.letterC()\n",
    "numberTwo.letterD()\n",
    "numberTwo.letterE()\n",
    "numberTwo.letterF()\n",
    "numberTwo.letterG()\n",
    "numberTwo.letterH()\n",
    "numberTwo.letterI()\n",
    "numberTwo.letterJ()\n",
    "numberTwo.letterK()\n",
    "numberTwo.letterL()\n",
    "numberTwo.letterM()\n"
   ]
  },
  {
   "cell_type": "code",
   "execution_count": 5,
   "id": "a25066fc-4a05-444e-93e5-270a1ee55a29",
   "metadata": {},
   "outputs": [
    {
     "name": "stdout",
     "output_type": "stream",
     "text": [
      "4𝐮-3v:  [ -7 -14  13  45   0]\n",
      "5𝐮+2v-2w:  [ 16 -31  28  16 -23]\n",
      "u.v =  -6\n",
      "v.w =  5\n",
      "u.w =  -13\n",
      "||u||:  9.486832980505138\n",
      "||v||:  9.746794344808963\n",
      "||w||:  3.7416573867739413\n",
      "angle: -0.06488856845230502\n",
      "angle: 0.13710212427677046\n",
      "angle: -0.3662335103823572\n",
      "d(u,v):  14.035668847618199\n",
      "d(w,v):  9.9498743710662\n",
      "d(u,w):  11.40175425099138\n",
      "proj(u,v):  [-0.31578947  0.12631579 -0.06315789  0.44210526  0.25263158]\n",
      "proj(w,v):  [ 0.26315789 -0.10526316  0.05263158 -0.36842105 -0.21052632]\n",
      "proj(u,w):  [-1.85714286 -0.92857143  2.78571429  0.          0.        ]\n"
     ]
    }
   ],
   "source": [
    "numberThree.letterA()\n",
    "numberThree.letterB()\n",
    "numberThree.letterC()\n",
    "numberThree.letterD()\n",
    "numberThree.letterE()\n",
    "numberThree.letterF()\n",
    "numberThree.letterG()\n",
    "numberThree.letterH()\n",
    "numberThree.letterI()\n",
    "numberThree.letterJ()\n",
    "numberThree.letterK()\n",
    "numberThree.letterL()\n",
    "numberThree.letterM()"
   ]
  },
  {
   "cell_type": "code",
   "execution_count": 6,
   "id": "8aef918c-569a-4e04-acf3-6110d9396d58",
   "metadata": {},
   "outputs": [
    {
     "name": "stdout",
     "output_type": "stream",
     "text": [
      "||u||:  8.602325267042627\n",
      "||v||:  5.0\n",
      "||w||:  0.961046882889233\n"
     ]
    }
   ],
   "source": [
    "numberFour.letterA()\n",
    "numberFour.letterB()\n",
    "numberFour.letterC()"
   ]
  },
  {
   "cell_type": "code",
   "execution_count": 7,
   "id": "7d1c7d1d-97ae-4fba-ac30-ddb7f6488c66",
   "metadata": {},
   "outputs": [
    {
     "name": "stdout",
     "output_type": "stream",
     "text": [
      "||u||:  3.0\n",
      "||v||:  13.0\n",
      "||u+v||:  10.954451150103322\n",
      "||ku||:  9.0\n"
     ]
    }
   ],
   "source": [
    "numberFive.letterA()"
   ]
  },
  {
   "cell_type": "code",
   "execution_count": 8,
   "id": "a2903765-1961-42e0-a1a1-f1cf4000524d",
   "metadata": {},
   "outputs": [
    {
     "name": "stdout",
     "output_type": "stream",
     "text": [
      "Cant show pythonic solution\n"
     ]
    }
   ],
   "source": [
    "numberSix.numberSix()"
   ]
  },
  {
   "cell_type": "code",
   "execution_count": null,
   "id": "ba9a6f2f-cb61-45ae-9e6c-b131cd095a1c",
   "metadata": {},
   "outputs": [],
   "source": []
  }
 ],
 "metadata": {
  "kernelspec": {
   "display_name": "Python 3 (ipykernel)",
   "language": "python",
   "name": "python3"
  },
  "language_info": {
   "codemirror_mode": {
    "name": "ipython",
    "version": 3
   },
   "file_extension": ".py",
   "mimetype": "text/x-python",
   "name": "python",
   "nbconvert_exporter": "python",
   "pygments_lexer": "ipython3",
   "version": "3.11.4"
  }
 },
 "nbformat": 4,
 "nbformat_minor": 5
}
